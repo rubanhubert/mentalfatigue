{
  "nbformat": 4,
  "nbformat_minor": 0,
  "metadata": {
    "colab": {
      "name": "mental fatigue.ipynb",
      "provenance": [],
      "collapsed_sections": [],
      "authorship_tag": "ABX9TyPa+QV6FXcnVYonI+uxEBDd",
      "include_colab_link": true
    },
    "kernelspec": {
      "name": "python3",
      "display_name": "Python 3"
    },
    "language_info": {
      "name": "python"
    }
  },
  "cells": [
    {
      "cell_type": "markdown",
      "metadata": {
        "id": "view-in-github",
        "colab_type": "text"
      },
      "source": [
        "<a href=\"https://colab.research.google.com/github/rubanhubert/mentalfatigue/blob/main/mental_fatigue.ipynb\" target=\"_parent\"><img src=\"https://colab.research.google.com/assets/colab-badge.svg\" alt=\"Open In Colab\"/></a>"
      ]
    },
    {
      "cell_type": "code",
      "metadata": {
        "id": "FLgxI9NYNKuY"
      },
      "source": [
        "import matplotlib.pyplot as plt\n",
        "import seaborn as sns; sns.set()\n",
        "import numpy as np\n",
        "from scipy import stats\n",
        "import pandas as pd"
      ],
      "execution_count": null,
      "outputs": []
    },
    {
      "cell_type": "code",
      "metadata": {
        "id": "plNKTHhi1hUc"
      },
      "source": [
        ""
      ],
      "execution_count": null,
      "outputs": []
    },
    {
      "cell_type": "code",
      "metadata": {
        "id": "zB2t9HPz1iTr"
      },
      "source": [
        ""
      ],
      "execution_count": null,
      "outputs": []
    },
    {
      "cell_type": "code",
      "metadata": {
        "colab": {
          "base_uri": "https://localhost:8080/",
          "height": 268
        },
        "id": "sxcBFDWhNWGy",
        "outputId": "498d861b-7876-4b6e-8ed7-b1fd303e63fb"
      },
      "source": [
        "x = [52,26,63,59,63,44,62,31,23,27,56,27,56]\n",
        "y = [18,12,20,20,10,8,16,16,15,1,2,20,13]\n",
        "plt.scatter(x, y)\n",
        "plt.show()\n",
        "\n",
        "\n",
        "\n"
      ],
      "execution_count": null,
      "outputs": [
        {
          "output_type": "display_data",
          "data": {
            "image/png": "[encoded data removed]",
            "text/plain": [
              "<Figure size 432x288 with 1 Axes>"
            ]
          },
          "metadata": {
            "tags": []
          }
        }
      ]
    },
    {
      "cell_type": "code",
      "metadata": {
        "colab": {
          "base_uri": "https://localhost:8080/",
          "height": 302
        },
        "id": "nZGQwdWhalG3",
        "outputId": "a43f643e-bcaf-41f7-a22a-8c5badaa1859"
      },
      "source": [
        "slope, intercept, r, p, std_err = stats.linregress(x, y)\n",
        "\n",
        "def myfunc(x):\n",
        "  return slope * x + intercept\n",
        "\n",
        "mymodel = list(map(myfunc, x))\n",
        "\n",
        "plt.scatter(x, y)\n",
        "plt.plot(x, mymodel)\n",
        "plt.show()\n",
        "print (r)\n",
        "speed = myfunc(27)\n",
        "print (speed)"
      ],
      "execution_count": null,
      "outputs": [
        {
          "output_type": "display_data",
          "data": {
            "image/png": "[encoded data removed]",
            "text/plain": [
              "<Figure size 432x288 with 1 Axes>"
            ]
          },
          "metadata": {
            "tags": []
          }
        },
        {
          "output_type": "stream",
          "text": [
            "0.1309915371002265\n",
            "12.198784164483763\n"
          ],
          "name": "stdout"
        }
      ]
    },
    {
      "cell_type": "code",
      "metadata": {
        "id": "CN5FqgCLOyar",
        "colab": {
          "base_uri": "https://localhost:8080/",
          "height": 282
        },
        "outputId": "7baaf624-1304-4f3f-9da4-2945076b4995"
      },
      "source": [
        "import numpy as np\n",
        "from sklearn.metrics import r2_score\n",
        "import matplotlib.pyplot as plt\n",
        "x = [52,26,63,59,63,44,62,31,23,27,56,27,56]\n",
        "y = [18,12,20,20,10,8,16,16,15,1,2,20,13]\n",
        "mymodel = np.poly1d(np.polyfit(x, y, 3))\n",
        "\n",
        "myline = np.linspace(23, 63, 20)\n",
        "plt.scatter(x, y)\n",
        "plt.plot(myline, mymodel(myline))\n",
        "plt.show()\n",
        "print(r2_score(y, mymodel(x)))"
      ],
      "execution_count": null,
      "outputs": [
        {
          "output_type": "display_data",
          "data": {
            "image/png": "[encoded data removed]",
            "text/plain": [
              "<Figure size 432x288 with 1 Axes>"
            ]
          },
          "metadata": {
            "tags": [],
            "needs_background": "light"
          }
        },
        {
          "output_type": "stream",
          "text": [
            "0.06391165419163813\n"
          ],
          "name": "stdout"
        }
      ]
    },
    {
      "cell_type": "code",
      "metadata": {
        "colab": {
          "base_uri": "https://localhost:8080/"
        },
        "id": "Z3aW9PHF1kCc",
        "outputId": "923628c0-a8b6-4de0-f553-428db33e024a"
      },
      "source": [
        "import pandas\n",
        "import matplotlib.pyplot as plt\n",
        "import seaborn as sns; sns.set()\n",
        "import numpy as np\n",
        "from scipy import stats\n",
        "df = pandas.read_csv(\"trainn.csv\")\n",
        "pandas.get_dummies(df.Gender)\n",
        "x = df[['Average Hours worked per day', 'Employee satisfaction score','Vacations taken','Designation','Age','Tenure']]\n",
        "y = df['Mental Fatigue Score']\n",
        "\n",
        "from sklearn import linear_model\n",
        "\n",
        "regr = linear_model.LinearRegression()\n",
        "regr.fit(x, y)\n",
        "\n",
        "predictedCO2 = regr.predict([[3, 4.9,10,2,55,17]])\n",
        "\n",
        "predict = round(predictedCO2[0],3)\n",
        "\n",
        "print(predict)"
      ],
      "execution_count": null,
      "outputs": [
        {
          "output_type": "stream",
          "text": [
            "0.36\n"
          ],
          "name": "stdout"
        }
      ]
    },
    {
      "cell_type": "code",
      "metadata": {
        "colab": {
          "base_uri": "https://localhost:8080/"
        },
        "id": "HAltPJryH9zL",
        "outputId": "51cdde52-c676-41aa-99f5-07379d24781c"
      },
      "source": [
        "import pandas\n",
        "import matplotlib.pyplot as plt\n",
        "import seaborn as sns; sns.set()\n",
        "import numpy as np\n",
        "from scipy import stats\n",
        "df = pandas.read_csv(\"trainn.csv\")\n",
        "dummies = pandas.get_dummies(df.Gender)\n",
        "dummies1 = pandas.get_dummies(df.Company)\n",
        "dummies2 = pandas.get_dummies(df.WFH)\n",
        "merged1 =pandas.concat([df,dummies,dummies1,dummies2],axis='columns')\n",
        "\n",
        "finalout = merged1.drop(['Gender','Company','WFH','Service','Male','Female','Yes'],axis='columns')\n",
        "finalout\n",
        "x= finalout.drop(['Score'],axis='columns')\n",
        "x\n",
        "y = finalout.Score\n",
        "y\n",
        "from sklearn import linear_model\n",
        "\n",
        "regr = linear_model.LinearRegression()\n",
        "regr.fit(x, y)\n",
        "\n",
        "predictedScore = regr.predict([[7, 9,4,2,58,13,0,0]])\n",
        "\n",
        "predict = round(predictedScore[0],3)\n",
        "\n",
        "print(predict)\n"
      ],
      "execution_count": null,
      "outputs": [
        {
          "output_type": "stream",
          "text": [
            "0.733\n"
          ],
          "name": "stdout"
        }
      ]
    },
    {
      "cell_type": "code",
      "metadata": {
        "id": "ZrW3VPlvohHg"
      },
      "source": [
        "x = df[['Average Hours worked per day', 'Employee satisfaction score','Vacations taken','Designation','Age','Tenure','Female','Product','No']]\n",
        "\n",
        "\n"
      ],
      "execution_count": null,
      "outputs": []
    }
  ]
}